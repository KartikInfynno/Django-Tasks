{
 "cells": [
  {
   "cell_type": "code",
   "execution_count": 8,
   "id": "36c96db0",
   "metadata": {},
   "outputs": [],
   "source": [
    "people = [{'name': 'kartik', 'email': 'kartikparmar403@gmail.com', 'contact_no': 1256378, 'issue': 'Product_Issue', 'description': 'qwertyui'}, {'name': 'kartik', 'email': 'kartikparmar403', 'contact_no': 1256378, 'issue': 'Product_Issue', 'description': 'qwertyui'}, {'name': 'kartik', 'email': 'kar403@gmail.com', 'contact_no': 1256378, 'issue': 'Product_Issue', 'description': 'qwertyui'}, {'name': 'kartik', 'email': 'kaail.com', 'contact_no': 1256378, 'issue': 'Product_Issue', 'description': 'qwertyui'}, {'name': 'kartik', 'email': 'kartikparmar403@gmail.com', 'contact_no': 1256378, 'issue': 'Product_Issue', 'description': 'qwertyui'}, {'name': 'kartik', 'email': 'ka403@gmail.com', 'contact_no': 1256378, 'issue': 'Product_Issue', 'description': 'qwertyui'}, {'name': 'kartik', 'email': 'kartikparmar403@gmail.com', 'contact_no': 1256378, 'issue': 'Product_Issue', 'description': 'qwertyui'}]\n",
    "\n",
    "li = list(filter(lambda person: person['email'] == \"kartikparmar403@gmail.com\", people))\n",
    "data = []"
   ]
  },
  {
   "cell_type": "code",
   "execution_count": 9,
   "id": "d2710478",
   "metadata": {},
   "outputs": [],
   "source": [
    "for i in people:\n",
    "    if i in li:\n",
    "        pass\n",
    "    else:\n",
    "        data.append(i)"
   ]
  },
  {
   "cell_type": "code",
   "execution_count": 10,
   "id": "df6cfb8c",
   "metadata": {},
   "outputs": [
    {
     "data": {
      "text/plain": [
       "[{'name': 'kartik',\n",
       "  'email': 'kartikparmar403',\n",
       "  'contact_no': 1256378,\n",
       "  'issue': 'Product_Issue',\n",
       "  'description': 'qwertyui'},\n",
       " {'name': 'kartik',\n",
       "  'email': 'kar403@gmail.com',\n",
       "  'contact_no': 1256378,\n",
       "  'issue': 'Product_Issue',\n",
       "  'description': 'qwertyui'},\n",
       " {'name': 'kartik',\n",
       "  'email': 'kaail.com',\n",
       "  'contact_no': 1256378,\n",
       "  'issue': 'Product_Issue',\n",
       "  'description': 'qwertyui'},\n",
       " {'name': 'kartik',\n",
       "  'email': 'ka403@gmail.com',\n",
       "  'contact_no': 1256378,\n",
       "  'issue': 'Product_Issue',\n",
       "  'description': 'qwertyui'}]"
      ]
     },
     "execution_count": 10,
     "metadata": {},
     "output_type": "execute_result"
    }
   ],
   "source": [
    "data"
   ]
  },
  {
   "cell_type": "code",
   "execution_count": 12,
   "id": "8730a40e",
   "metadata": {},
   "outputs": [
    {
     "name": "stdout",
     "output_type": "stream",
     "text": [
      "[0, 1, 2, 3, 4, 5, 6, 7, 8, 9]\n"
     ]
    }
   ],
   "source": [
    "l = list(range(10))\n",
    "print(l)\n",
    "# [0, 1, 2, 3, 4, 5, 6, 7, 8, 9]\n",
    "\n"
   ]
  },
  {
   "cell_type": "code",
   "execution_count": 13,
   "id": "7c3e3877",
   "metadata": {},
   "outputs": [
    {
     "data": {
      "text/plain": [
       "5"
      ]
     },
     "execution_count": 13,
     "metadata": {},
     "output_type": "execute_result"
    }
   ],
   "source": [
    "l.pop(5)"
   ]
  },
  {
   "cell_type": "code",
   "execution_count": 14,
   "id": "01ce6e63",
   "metadata": {},
   "outputs": [
    {
     "data": {
      "text/plain": [
       "[0, 1, 2, 3, 4, 6, 7, 8, 9]"
      ]
     },
     "execution_count": 14,
     "metadata": {},
     "output_type": "execute_result"
    }
   ],
   "source": [
    "l"
   ]
  },
  {
   "cell_type": "code",
   "execution_count": 1,
   "id": "690680b4",
   "metadata": {},
   "outputs": [],
   "source": [
    "li = [1,2,3,4,5,6,7]"
   ]
  },
  {
   "cell_type": "code",
   "execution_count": null,
   "id": "c8e36823",
   "metadata": {},
   "outputs": [],
   "source": [
    "li_2 = [8,9,0,11,4,4,2,1]"
   ]
  }
 ],
 "metadata": {
  "kernelspec": {
   "display_name": "Python 3 (ipykernel)",
   "language": "python",
   "name": "python3"
  },
  "language_info": {
   "codemirror_mode": {
    "name": "ipython",
    "version": 3
   },
   "file_extension": ".py",
   "mimetype": "text/x-python",
   "name": "python",
   "nbconvert_exporter": "python",
   "pygments_lexer": "ipython3",
   "version": "3.9.10"
  }
 },
 "nbformat": 4,
 "nbformat_minor": 5
}
